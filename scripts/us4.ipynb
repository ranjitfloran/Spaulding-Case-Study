{
 "cells": [
  {
   "cell_type": "code",
   "execution_count": 5,
   "id": "306730fc-18ea-4a31-9b5e-70b3ab920558",
   "metadata": {},
   "outputs": [
    {
     "name": "stdout",
     "output_type": "stream",
     "text": [
      " Employee data exported successfully as 'Results/Incremented_Employee_Data.csv'.\n",
      " Employee data exported successfully as 'Results/Original_Employee_Data.csv'.\n"
     ]
    }
   ],
   "source": [
    "import pandas as pd\n",
    "import sqlite3\n",
    "\n",
    "# .........Load data from database..........\n",
    "conn = sqlite3.connect(\"database/techsolve.db\")\n",
    "employee_df = pd.read_sql_query(\"SELECT * FROM Employee\", conn)\n",
    "\n",
    "# ............Consistent naming.............\n",
    "employee_df.columns = [col.strip().replace(\" \", \"_\").replace(\"?\", \"\") for col in employee_df.columns]\n",
    "\n",
    "# ..........Function to apply global increment first (if needed)..........\n",
    "def apply_global_increment(df, increment_percent):\n",
    "    df = df.copy()\n",
    "    df['UpdatedCompensationINR'] = df['CurrentCompINR'] * (1 + increment_percent / 100)\n",
    "    return df\n",
    "\n",
    "# ..........Function to export filtered data into CSV................\n",
    "def export_filtered_employees(df, filename, increment_applied=False):\n",
    "    export_df = df.copy()\n",
    "\n",
    "    # Choose compensation column based on increment status\n",
    "    if increment_applied and 'UpdatedCompensationINR' in df.columns:\n",
    "        compensation_column = 'UpdatedCompensationINR'\n",
    "    else:\n",
    "        compensation_column = 'CurrentCompINR'\n",
    "\n",
    "    # Rename columns clearly for CSV export\n",
    "    export_df = export_df.rename(columns={\n",
    "        'Name': 'Name',\n",
    "        'Role': 'Role',\n",
    "        'Location': 'Location',\n",
    "        'Years_of_Experience': 'Experience',\n",
    "        compensation_column: 'Compensation',\n",
    "        'Active': 'Status'\n",
    "    })\n",
    "\n",
    "    # Keep only required columns\n",
    "    export_df = export_df[['Name', 'Role', 'Location', 'Experience', 'Compensation', 'Status']]\n",
    "\n",
    "    # Export as CSV\n",
    "    export_df.to_csv(filename, index=False)\n",
    "    print(f\" Employee data exported successfully as '{filename}'.\")\n",
    "\n",
    "# Outcome Usage:\n",
    "\n",
    "# 1. Apply a global increment of 10% first (optional)\n",
    "incremented_df = apply_global_increment(employee_df, 10)\n",
    "\n",
    "# 2. Export to CSV (with incremented values)\n",
    "export_filtered_employees(incremented_df, \"Results/Incremented_Employee_Data.csv\", increment_applied=True)\n",
    "\n",
    "# 3. Export original data without increments\n",
    "export_filtered_employees(employee_df, \"Results/Original_Employee_Data.csv\", increment_applied=False)\n"
   ]
  },
  {
   "cell_type": "code",
   "execution_count": null,
   "id": "91763091-7b29-46dd-8764-a42e42a819c8",
   "metadata": {},
   "outputs": [],
   "source": []
  },
  {
   "cell_type": "code",
   "execution_count": null,
   "id": "5fd0119d-fe67-4c10-8d2b-66024a1d5a81",
   "metadata": {},
   "outputs": [],
   "source": []
  }
 ],
 "metadata": {
  "kernelspec": {
   "display_name": "Python 3 (ipykernel)",
   "language": "python",
   "name": "python3"
  },
  "language_info": {
   "codemirror_mode": {
    "name": "ipython",
    "version": 3
   },
   "file_extension": ".py",
   "mimetype": "text/x-python",
   "name": "python",
   "nbconvert_exporter": "python",
   "pygments_lexer": "ipython3",
   "version": "3.11.7"
  }
 },
 "nbformat": 4,
 "nbformat_minor": 5
}
